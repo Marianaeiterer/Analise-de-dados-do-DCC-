{
 "cells": [
  {
   "cell_type": "markdown",
   "id": "479a671a-2e49-49df-8b5b-427fc43a2175",
   "metadata": {},
   "source": [
    "Este notebook corrige as pastas csv e cria uma nova sem a tabulação existente na primeira coluna"
   ]
  },
  {
   "cell_type": "code",
   "execution_count": 1,
   "id": "ea385315-a77a-4534-b195-3540b5a79b2e",
   "metadata": {},
   "outputs": [],
   "source": [
    "import pandas as pd \n",
    "import seaborn as sns \n",
    "import matplotlib.pyplot as plt"
   ]
  },
  {
   "cell_type": "code",
   "execution_count": 2,
   "id": "e1f80601-5abc-4ed0-b9de-9ce92b755c21",
   "metadata": {},
   "outputs": [],
   "source": [
    "pasta= \"situacao-turmas/\"\n",
    "modificado = \"-mod\"\n",
    "anos = ['2014', '2015', '2016', '2017', '2018', '2019', '2020']\n",
    "periodos = ['.1', '.3']"
   ]
  },
  {
   "cell_type": "markdown",
   "id": "e2b4aca3-7838-4308-9957-d6486ab9fc23",
   "metadata": {},
   "source": [
    "Nova pasta será: Ano + -mod + .csv"
   ]
  },
  {
   "cell_type": "code",
   "execution_count": 3,
   "id": "b723d4b4-0461-448c-8a36-552f59029d13",
   "metadata": {},
   "outputs": [],
   "source": [
    "for ano in anos:\n",
    "    for periodo in periodos:\n",
    "        input_fd = open(pasta + ano + periodo +  \".csv\", \"r\")\n",
    "        output_fd = open(pasta + ano + periodo + modificado + \".csv\", 'w')\n",
    "        for line in input_fd.readlines():\n",
    "            line = ';'.join(['%s'%field.strip() for field in line.split(';')])+'\\n'\n",
    "            output_fd.write(line)\n",
    "        input_fd.close()\n",
    "        output_fd.close()"
   ]
  },
  {
   "cell_type": "code",
   "execution_count": null,
   "id": "448fd485-195b-42b2-abb4-c0a1953afc61",
   "metadata": {},
   "outputs": [],
   "source": []
  }
 ],
 "metadata": {
  "kernelspec": {
   "display_name": "Python 3",
   "language": "python",
   "name": "python3"
  },
  "language_info": {
   "codemirror_mode": {
    "name": "ipython",
    "version": 3
   },
   "file_extension": ".py",
   "mimetype": "text/x-python",
   "name": "python",
   "nbconvert_exporter": "python",
   "pygments_lexer": "ipython3",
   "version": "3.8.8"
  }
 },
 "nbformat": 4,
 "nbformat_minor": 5
}

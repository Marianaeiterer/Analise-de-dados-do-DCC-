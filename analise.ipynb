{
 "cells": [
  {
   "cell_type": "markdown",
   "id": "016db87d-3918-416b-ad97-4b2367faa81d",
   "metadata": {},
   "source": [
    "# Notebook DCC013\n",
    "\n",
    "Iremos unir os arquivos da pasta planos-departamentais e situacao-turmas para construir um DataFrame e avaliar o desempenho dessas duas turmas\n",
    "\n",
    "A questão a ser analisada será sobre a ocupação das turmas e o abandono da disiplina pelos alunos. Diminuir o número de vagas da turma estrutuda de dados, surtiu efeito na taxa de abandono da disciplina? Essa taxa caiu?\n",
    "\n",
    "Importação das bibliotecas que serão usadas"
   ]
  },
  {
   "cell_type": "code",
   "execution_count": null,
   "id": "5c670ecf-d29b-4394-92c0-cd6332060230",
   "metadata": {},
   "outputs": [],
   "source": [
    "import pandas as pd \n",
    "import seaborn as sns \n",
    "import numpy as np\n",
    "import matplotlib.pyplot as plt\n",
    "from stackbar import mycatplot"
   ]
  },
  {
   "cell_type": "markdown",
   "id": "2b626c65-1468-40e7-97b2-2b29713c5d7f",
   "metadata": {},
   "source": [
    "Para imprimir todas as colunas e linhas retire o '#' da celula abaixo"
   ]
  },
  {
   "cell_type": "code",
   "execution_count": null,
   "id": "2e6629a2-5671-4240-ad76-a2d6bcaad5f2",
   "metadata": {},
   "outputs": [],
   "source": [
    "#pd.set_option('display.max_rows', None)\n",
    "#pd.set_option('display.max_columns', None)"
   ]
  },
  {
   "cell_type": "markdown",
   "id": "966ffe58-b1c7-4e42-b5d8-3560e5f4794a",
   "metadata": {},
   "source": [
    "Aquivos que devam ser concertados, usar notebook correcao antes de rodá-los aqui"
   ]
  },
  {
   "cell_type": "markdown",
   "id": "ced15858-d1d6-4194-b88a-e438b5130c44",
   "metadata": {},
   "source": [
    "### Configurando o Data Frame"
   ]
  },
  {
   "cell_type": "markdown",
   "id": "bebb153f-5e14-4a71-8251-63f2bb124bc6",
   "metadata": {},
   "source": [
    "Se necessário acrescente anos na lista abaixo, para leitura de pastas de 2021 para frente."
   ]
  },
  {
   "cell_type": "code",
   "execution_count": null,
   "id": "cb7a424e-26f4-4d72-b7b9-e8521b71553f",
   "metadata": {},
   "outputs": [],
   "source": [
    "pasta = \"situacao-turmas/\"\n",
    "modificado = \"-mod\"\n",
    "anos = [2014, 2015, 2016, 2017, 2018, 2019, 2020]\n",
    "periodos = ['1', '3']"
   ]
  },
  {
   "cell_type": "markdown",
   "id": "651998a7-129a-4b83-b220-8db3d15dcd8b",
   "metadata": {},
   "source": [
    "Ler cada pasta e conecta os dados "
   ]
  },
  {
   "cell_type": "code",
   "execution_count": null,
   "id": "3d869e68-a97a-4bc3-b6d6-c356883e835b",
   "metadata": {
    "tags": []
   },
   "outputs": [],
   "source": [
    "df_anos = []\n",
    "for ano in anos:\n",
    "    df_periodos = []\n",
    "    for periodo in periodos:\n",
    "        df = pd.read_csv(pasta + str(ano) + \".\" + periodo + modificado + \".csv\", sep = ';', \n",
    "                         encoding = 'ISO-8859-1', error_bad_lines=False, warn_bad_lines=True,\n",
    "                        index_col = ['DISCIPLINA', 'TURMA'])\n",
    "        df_periodos.append (df)\n",
    "    df_anos.append(pd.concat(df_periodos, keys=periodos))\n",
    "\n",
    "df_final = pd.concat (df_anos, keys=anos, names=['ANO', 'PERIODO', 'DISCIPLINA', 'TURMA']).reset_index()\n",
    "display(df_final)"
   ]
  },
  {
   "cell_type": "markdown",
   "id": "21e008a6-54dc-492d-b52f-5c263c6474f5",
   "metadata": {},
   "source": [
    "Separa o codigo do curso do nome do curso"
   ]
  },
  {
   "cell_type": "code",
   "execution_count": null,
   "id": "0f73e18f-bd0b-4e58-8d89-0a9a976df295",
   "metadata": {
    "tags": []
   },
   "outputs": [],
   "source": [
    "df = df_final['CURSO'].str.split(' - ', expand=True, n=1)\n",
    "display(df)"
   ]
  },
  {
   "cell_type": "code",
   "execution_count": null,
   "id": "97faf759-147f-4c12-b7ec-62631efa0d78",
   "metadata": {},
   "outputs": [],
   "source": [
    "df_final.insert(loc=8, column='CODIGO_CURSO', value=df.iloc[:,0:1])\n",
    "df_final.insert(loc=9, column='NOME_CURSO', value=df.iloc[:,1:2])\n",
    "display(df_final)"
   ]
  },
  {
   "cell_type": "markdown",
   "id": "bf0220bd-a4aa-44cd-8f9e-a53902f6f9f1",
   "metadata": {},
   "source": [
    "Separa as disciplinas interessadas interessada. Substitua a disciplina entre aspas de acordo com a desejada"
   ]
  },
  {
   "cell_type": "code",
   "execution_count": null,
   "id": "6553722d-51dd-4eb9-9158-fb8404a92c4b",
   "metadata": {
    "tags": []
   },
   "outputs": [],
   "source": [
    "codigo = 'DCC013'\n",
    "one = df_final.query(\"DISCIPLINA == @codigo\")\n",
    "display(one)"
   ]
  },
  {
   "cell_type": "markdown",
   "id": "5d99e807-f933-48eb-8b63-2e67a6f12fdd",
   "metadata": {},
   "source": [
    "### Gráficos de Vagas Oferecidas e Ocupação das Turmas"
   ]
  },
  {
   "cell_type": "markdown",
   "id": "baeeda22-ca07-4d30-b1d9-a23dcbdd02c0",
   "metadata": {},
   "source": [
    "Retira linhas de vagas duplicadas e calcula a ocupação das turmas "
   ]
  },
  {
   "cell_type": "code",
   "execution_count": null,
   "id": "bb0b40e2-5b2c-46e9-8134-c1489b2f8dbd",
   "metadata": {
    "tags": []
   },
   "outputs": [],
   "source": [
    "vagas_totais = one[[\"ANO\", \"PERIODO\", \"DISCIPLINA\", \"TURMA\", \"VAGAS OFERECIDAS\", \"VAGAS OCUPADAS\"]].drop_duplicates()\n",
    "vagas_totais[\"OCUPACAO EM PORCENTAGEM\"] = (vagas_totais[\"VAGAS OCUPADAS\"] / vagas_totais[\"VAGAS OFERECIDAS\"])*100\n",
    "display(vagas_totais)"
   ]
  },
  {
   "cell_type": "markdown",
   "id": "66ac7791-b794-48a8-a722-b7878aaf3927",
   "metadata": {},
   "source": [
    "Coloca a grade atras dos gráficos"
   ]
  },
  {
   "cell_type": "code",
   "execution_count": null,
   "id": "4d8f12c9-8312-4686-ad22-d31cb44d086a",
   "metadata": {},
   "outputs": [],
   "source": [
    "sns.set_style(\"whitegrid\")\n",
    "sns.set_context(\"paper\", font_scale=1.5) "
   ]
  },
  {
   "cell_type": "markdown",
   "id": "f353bf1b-1323-4051-bbf1-03b8d5e4b50b",
   "metadata": {},
   "source": [
    "Grafico das vagas oferecidas por disciplina de acordo com o ano e periodo"
   ]
  },
  {
   "cell_type": "code",
   "execution_count": null,
   "id": "6ad13dda-0bd8-4c11-8c70-7d7302dd9396",
   "metadata": {},
   "outputs": [],
   "source": [
    "a = sns.catplot(data=vagas_totais, x=\"ANO\", y=\"VAGAS OFERECIDAS\", kind=\"bar\", hue=\"DISCIPLINA\", col=\"PERIODO\",\n",
    "               palette=['#8ECCB7'], estimator=np.sum, ci=None)\n",
    "a.set_titles(\"Vagas Oferecidas no Período {col_name}\", fontdict= {'fontweight':'semibold'})\n",
    "a.savefig(\"VagasOferecidas.pdf\")\n",
    "a.savefig(\"VagasOferecidas.png\")"
   ]
  },
  {
   "cell_type": "markdown",
   "id": "5fda671c-de72-46a5-942b-192cb28c2b60",
   "metadata": {},
   "source": [
    "Grafico vagas oferecidas das disciplinas, em linha"
   ]
  },
  {
   "cell_type": "code",
   "execution_count": null,
   "id": "20a29910-5b5f-4cca-b3ff-73387c91a975",
   "metadata": {},
   "outputs": [],
   "source": [
    "c = sns.relplot(data=vagas_totais, x=\"ANO\", y=\"VAGAS OFERECIDAS\", kind=\"line\", col=\"PERIODO\",\n",
    "            hue=\"DISCIPLINA\", estimator=np.sum, palette=['#8ECCB7'])\n",
    "c.set(ylim = (0,200))\n",
    "c.set(xlim = (2014,2020))\n",
    "c.despine(left=True)\n",
    "c.set_titles(\"Vagas Oferecidas no Período {col_name}\", fontdict= {'fontweight':'semibold'})"
   ]
  },
  {
   "cell_type": "markdown",
   "id": "1b274365-7856-4ea4-9134-f67dae113032",
   "metadata": {},
   "source": [
    "Grafico da ocupação das turmas por disciplina de acordo com o ano e periodo"
   ]
  },
  {
   "cell_type": "code",
   "execution_count": null,
   "id": "3d6228ee-c9fa-4c9f-adc8-eaedd680b2d6",
   "metadata": {},
   "outputs": [],
   "source": [
    "b = sns.catplot(data=vagas_totais, x=\"ANO\", y=\"OCUPACAO EM PORCENTAGEM\", palette=['#8ECCB7'], \n",
    "                kind=\"bar\", hue=\"DISCIPLINA\", col=\"PERIODO\", ci=None)\n",
    "b.set_titles(\"Ocupação das Turmas Período {col_name}\", fontdict= {'fontweight':'bold'})\n",
    "b.savefig(\"UsoDaTurma.pdf\")\n",
    "b.savefig(\"UsoDaTurma.png\")"
   ]
  },
  {
   "cell_type": "markdown",
   "id": "dcc77fce-9d41-45cb-83df-3955a7497b6b",
   "metadata": {},
   "source": [
    "Grafico da ocupação das disciplinas em linha "
   ]
  },
  {
   "cell_type": "code",
   "execution_count": null,
   "id": "db01390a-b4c3-48cf-99b5-3bdafb48453c",
   "metadata": {},
   "outputs": [],
   "source": [
    "d = sns.relplot(data=vagas_totais, x=\"ANO\", y=\"OCUPACAO EM PORCENTAGEM\", kind=\"line\", col=\"PERIODO\",\n",
    "            hue=\"DISCIPLINA\", palette=['#CC527A', '#2F9395'])\n",
    "d.set(ylim = (0,100))\n",
    "d.set(xlim = (2014,2020))\n",
    "d.despine(left=True)\n",
    "d.set_titles(\"Ocupação das Turmas Período {col_name}\", fontdict= {'fontweight':'bold'})"
   ]
  },
  {
   "cell_type": "markdown",
   "id": "74526a1d-7059-4ddc-961b-506f3bdcf4ae",
   "metadata": {},
   "source": [
    "### Gráficos dos alunos por curso"
   ]
  },
  {
   "cell_type": "code",
   "execution_count": null,
   "id": "14933a7c-a955-48ef-b144-e8b913e62346",
   "metadata": {
    "tags": []
   },
   "outputs": [],
   "source": [
    "por_curso = one.groupby([\"ANO\", \"PERIODO\", \"DISCIPLINA\", \"TURMA\",\"CODIGO_CURSO\", \"NOME_CURSO\"])[[\"TOTAL DE ALUNOS\"]].sum().reset_index()\n",
    "display(por_curso)"
   ]
  },
  {
   "cell_type": "code",
   "execution_count": null,
   "id": "f4e5de83-eea2-44e2-9e6c-ca4f273dffda",
   "metadata": {},
   "outputs": [],
   "source": [
    "e = sns.catplot(data=por_curso, x=\"ANO\", y=\"TOTAL DE ALUNOS\", row = \"CODIGO_CURSO\", kind=\"bar\", hue=\"DISCIPLINA\",\n",
    "           row_order=['35A', '76A', '65AC', '65AB', '65A'], estimator=np.sum, ci=None,\n",
    "            palette=['#9CD3C0', '#FF9999'])\n",
    "e.fig.set_figheight(20)\n",
    "e.fig.set_figwidth(25)\n",
    "e.set_titles(\"Total de Alunos nas Disciplinas do Curso {row_name}\", fontdict= {'fontweight':'bold'})"
   ]
  },
  {
   "cell_type": "code",
   "execution_count": null,
   "id": "32a3212a-aba4-4d58-9f76-d38a9c91e570",
   "metadata": {},
   "outputs": [],
   "source": [
    "f= sns.catplot(data=por_curso, x=\"ANO\", y=\"TOTAL DE ALUNOS\", kind=\"bar\", hue=\"DISCIPLINA\", col=\"PERIODO\",\n",
    "           estimator=np.sum, ci=None, palette=['#9CD3C0', '#FF9999'] )\n",
    "f.set_titles(\"Total de Alunos nas Turmas no Período {col_name}\", fontdict= {'fontweight':'bold'})"
   ]
  },
  {
   "cell_type": "markdown",
   "id": "8f963ff3-757e-4b9a-b228-d8472f48dc85",
   "metadata": {},
   "source": [
    "### Gráficos sobre a situação dos alunos "
   ]
  },
  {
   "cell_type": "code",
   "execution_count": null,
   "id": "da14e1f3-5d95-47db-851c-c58217dac81f",
   "metadata": {
    "tags": []
   },
   "outputs": [],
   "source": [
    "situacao1 = one.groupby([\"ANO\", \"PERIODO\", \"DISCIPLINA\"])[[\"TOTAL DE ALUNOS\"]].sum().reset_index()\n",
    "display(situacao1)"
   ]
  },
  {
   "cell_type": "code",
   "execution_count": null,
   "id": "daf2fcad-aa65-470f-8ab3-05534d325986",
   "metadata": {},
   "outputs": [],
   "source": [
    "def total_alunos(ano, periodo, disciplina):\n",
    "    return situacao1.query(\"ANO == @ano and PERIODO == @periodo and DISCIPLINA == @disciplina\").iloc[0][\"TOTAL DE ALUNOS\"]"
   ]
  },
  {
   "cell_type": "code",
   "execution_count": null,
   "id": "2ff88ffc-6ad1-4ec9-97ec-88c5961290f1",
   "metadata": {},
   "outputs": [],
   "source": [
    "situacao2 = one.groupby([\"ANO\", \"PERIODO\", \"DISCIPLINA\", \"SITUACAO\"])[[\"TOTAL DE ALUNOS\"]].sum().reset_index()\n",
    "display(situacao2)"
   ]
  },
  {
   "cell_type": "code",
   "execution_count": null,
   "id": "2b6eff0b-b648-4144-9bba-2d59605f94d1",
   "metadata": {
    "tags": []
   },
   "outputs": [],
   "source": [
    "g = sns.catplot(data=situacao2, x=\"ANO\", y=\"TOTAL DE ALUNOS\", kind=\"bar\", row=\"SITUACAO\", hue=\"DISCIPLINA\",\n",
    "            col=\"PERIODO\", estimator=np.sum, ci=None, palette=['#9CD3C0', '#FF9999'])\n",
    "g.set_titles(\"Situação dos Alunos {row_name} no Período {col_name}\",  fontdict= {'fontweight':'bold'})"
   ]
  },
  {
   "cell_type": "code",
   "execution_count": null,
   "id": "2f5f7a9e-80d0-4aca-b327-586303d4a28f",
   "metadata": {
    "tags": []
   },
   "outputs": [],
   "source": [
    "situacao2[\"CALCULO_ALUNOS\"] = 0\n",
    "for index, row in situacao2.iterrows():\n",
    "    calculo = (row['TOTAL DE ALUNOS']/(total_alunos(row[\"ANO\"], row[\"PERIODO\"], row[\"DISCIPLINA\"])))*100\n",
    "    situacao2.loc[index, 'CALCULO_ALUNOS'] = calculo\n",
    "situacao2[\"ANOPERIODO\"] = situacao2[\"ANO\"].astype(str)+\".\"+situacao2[\"PERIODO\"].astype(str)     \n",
    "display(situacao2)"
   ]
  },
  {
   "cell_type": "code",
   "execution_count": null,
   "id": "08b8a6f5-c9b9-4939-a869-8a87ee6a6863",
   "metadata": {
    "tags": []
   },
   "outputs": [],
   "source": [
    "i = sns.catplot(data=situacao2, x=\"ANO\", y=\"CALCULO_ALUNOS\", kind=\"bar\", row=\"SITUACAO\", hue=\"DISCIPLINA\", \n",
    "            col=\"PERIODO\", estimator=np.sum, ci=None, palette=['#9CD3C0', '#FF9999'])\n",
    "i.set_titles(\"Situação dos Alunos {row_name} no Período {col_name}\", fontdict= {'fontweight':'bold'})"
   ]
  },
  {
   "cell_type": "code",
   "execution_count": null,
   "id": "38e2e1f9-075c-4986-83c6-916a063aee89",
   "metadata": {
    "tags": []
   },
   "outputs": [],
   "source": [
    "j =sns.catplot(data=situacao2, x=\"ANO\", y=\"CALCULO_ALUNOS\", kind=\"bar\", row=\"SITUACAO\",\n",
    "            hue=\"DISCIPLINA\", estimator=np.sum, ci=None, palette=['#9CD3C0', '#FF9999'])\n",
    "j.set_titles(\"Situação dos Alunos {row_name}\")"
   ]
  },
  {
   "cell_type": "code",
   "execution_count": null,
   "id": "1b01abe7-4909-4ee9-a357-0f4c500e8053",
   "metadata": {},
   "outputs": [],
   "source": [
    "h= mycatplot(x=\"ANOPERIODO\", y=\"CALCULO_ALUNOS\", data=situacao2, kind=\"bar\", aspect=1.7,\n",
    "         ci=None, hue=\"SITUACAO\",\n",
    "          col=\"DISCIPLINA\", palette=['#2A9D8F','#F4A261', '#D7431D', '#A8A7A8', '#474747'])\n",
    "sns.set(rc = {'figure.figsize':(20,8)})\n",
    "h.set_titles(\"Situação Final dos Alunos em {col_name}\", fontdict= { 'fontsize': 30, 'fontweight':'bold'})\n",
    "h.savefig(\"Situacao.pdf\")\n",
    "h.savefig(\"Situacao.png\")"
   ]
  }
 ],
 "metadata": {
  "kernelspec": {
   "display_name": "Python 3",
   "language": "python",
   "name": "python3"
  },
  "language_info": {
   "codemirror_mode": {
    "name": "ipython",
    "version": 3
   },
   "file_extension": ".py",
   "mimetype": "text/x-python",
   "name": "python",
   "nbconvert_exporter": "python",
   "pygments_lexer": "ipython3",
   "version": "3.8.8"
  }
 },
 "nbformat": 4,
 "nbformat_minor": 5
}
